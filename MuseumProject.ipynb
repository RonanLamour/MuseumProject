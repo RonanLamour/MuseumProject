{
 "cells": [
  {
   "cell_type": "markdown",
   "id": "9606b54c-cec4-425a-ba14-c28c7e2e10f1",
   "metadata": {},
   "source": [
    "# Projet Museum"
   ]
  },
  {
   "cell_type": "markdown",
   "id": "bcee1d05-4dd6-44b1-aed5-e12631f5ef96",
   "metadata": {},
   "source": [
    "**Liste des Musées en France**"
   ]
  },
  {
   "cell_type": "code",
   "execution_count": 28,
   "id": "e28fcfa5-4a29-4136-a9be-82be493b2a4b",
   "metadata": {},
   "outputs": [],
   "source": [
    "import pandas as pd\n",
    "import numpy as np\n",
    "\n",
    "data1 = pd.read_csv(\"/Users/ronanlamour/Desktop/THP_Ronan_Lamour/Semaine_4/Day_2/museumData.csv\",encoding='latin-1', sep = ';')"
   ]
  },
  {
   "cell_type": "code",
   "execution_count": 29,
   "id": "6faf841f-7807-4cd4-9c8c-7db376da205c",
   "metadata": {},
   "outputs": [],
   "source": [
    "df_musee = pd.DataFrame(data1)"
   ]
  },
  {
   "cell_type": "markdown",
   "id": "7f55143a-813f-4be2-b625-dbdcd1876389",
   "metadata": {},
   "source": [
    "**Combien y-a-t-il de musées en France métropolitaine ?**"
   ]
  },
  {
   "cell_type": "code",
   "execution_count": 7,
   "id": "4d2972a9-d35b-4777-b6e0-71adbbf32fa3",
   "metadata": {},
   "outputs": [
    {
     "data": {
      "text/plain": [
       "3784"
      ]
     },
     "execution_count": 7,
     "metadata": {},
     "output_type": "execute_result"
    }
   ],
   "source": [
    "len(data1)"
   ]
  },
  {
   "cell_type": "markdown",
   "id": "e9537619-414d-44c9-befa-506e08eef993",
   "metadata": {},
   "source": [
    "**Dans quelle(s) ville(s) y-a-t-il de plus de musées ?**"
   ]
  },
  {
   "cell_type": "code",
   "execution_count": 11,
   "id": "9107860e-c4a8-4005-9f25-ac4055298c51",
   "metadata": {
    "tags": []
   },
   "outputs": [
    {
     "data": {
      "text/plain": [
       "'Paris'"
      ]
     },
     "execution_count": 11,
     "metadata": {},
     "output_type": "execute_result"
    }
   ],
   "source": [
    "data1['city'].value_counts().idxmax()"
   ]
  },
  {
   "cell_type": "markdown",
   "id": "bde06f2a-7793-4439-9437-7de0b20fcdfa",
   "metadata": {},
   "source": [
    "**Quel est le nombre moyen de musées par ville ?**"
   ]
  },
  {
   "cell_type": "code",
   "execution_count": 12,
   "id": "57fdebb8-9b17-42be-b714-b6ab54399e18",
   "metadata": {},
   "outputs": [
    {
     "data": {
      "text/plain": [
       "1.647930283224401"
      ]
     },
     "execution_count": 12,
     "metadata": {},
     "output_type": "execute_result"
    }
   ],
   "source": [
    "data1['city'].value_counts().mean()"
   ]
  },
  {
   "cell_type": "markdown",
   "id": "9b2958fe-23f6-481f-940f-c3e813ed49c0",
   "metadata": {},
   "source": [
    "**Quel est le nombre médian de musées par ville ?**"
   ]
  },
  {
   "cell_type": "code",
   "execution_count": 13,
   "id": "4083e04a-df89-49cf-b867-63e9cc9b2451",
   "metadata": {},
   "outputs": [
    {
     "data": {
      "text/plain": [
       "1.0"
      ]
     },
     "execution_count": 13,
     "metadata": {},
     "output_type": "execute_result"
    }
   ],
   "source": [
    "data1['city'].value_counts().median()"
   ]
  },
  {
   "cell_type": "markdown",
   "id": "1e215099-3c47-4755-a2c0-d86de2304109",
   "metadata": {},
   "source": [
    "**Comment sont répartis les musées par type (en pourcentage) ?**"
   ]
  },
  {
   "cell_type": "code",
   "execution_count": 14,
   "id": "7be99081-22e6-4d51-b53b-41a8860a4d78",
   "metadata": {},
   "outputs": [
    {
     "data": {
      "text/plain": [
       "osm:museum                                                                               57.51\n",
       "osm:museum;type:ecomusee                                                                 10.23\n",
       "osm:museum;type:musee technique et industriel                                             5.13\n",
       "osm:museum;type:musee d'histoire                                                          3.49\n",
       "osm:museum;art:architecture                                                                3.2\n",
       "                                                                                         ...  \n",
       "osm:museum;art:art medieval;type:centre d'interpretation                                  0.03\n",
       "osm:museum;type:maison d'artiste;gender:musee de femme                                    0.03\n",
       "osm:museum:;type:centre d'art;gender:musee d'homme                                        0.03\n",
       "osm:museum;art:art moderne;art:art contemporain;art:art brut;type:musee de beaux-arts     0.03\n",
       "osm:museum;art:art moderne;type:musee de beaux-arts;gender:musee d'homme                  0.03\n",
       "Name: tags, Length: 119, dtype: object"
      ]
     },
     "execution_count": 14,
     "metadata": {},
     "output_type": "execute_result"
    }
   ],
   "source": [
    "pourcentage100 = data1['tags'].value_counts(normalize=True).mul(100).round(2).astype(str)\n",
    "pourcentage100"
   ]
  },
  {
   "cell_type": "markdown",
   "id": "06a7bad1-3782-4cf9-bed6-4c1431220a1b",
   "metadata": {},
   "source": [
    "**Combien y-a-t-il de musées dont le nom commence par \"Château\" ?**"
   ]
  },
  {
   "cell_type": "code",
   "execution_count": 15,
   "id": "7012021e-1d9d-4a20-96fa-abe2d45c2ede",
   "metadata": {},
   "outputs": [
    {
     "data": {
      "text/plain": [
       "False    3727\n",
       "True       57\n",
       "Name: name, dtype: int64"
      ]
     },
     "execution_count": 15,
     "metadata": {},
     "output_type": "execute_result"
    }
   ],
   "source": [
    " data1['name'].str.startswith('Château').value_counts()"
   ]
  },
  {
   "cell_type": "markdown",
   "id": "e94c8fbf-55af-40eb-a813-3fbbb58847b5",
   "metadata": {},
   "source": [
    "**Pour combien de musées dispose-t-on de l'adresse du site web ?**"
   ]
  },
  {
   "cell_type": "code",
   "execution_count": 30,
   "id": "bc09b362-eb82-4239-8f7b-1475ab991c26",
   "metadata": {},
   "outputs": [
    {
     "data": {
      "text/plain": [
       "musees@ville.angers.fr             3\n",
       "info@musees-rouen-normandie.fr     2\n",
       "public@nmnm.mc                     2\n",
       "musee.calvet@mairie-avignon.com    2\n",
       "musart@ville-troyes.fr             2\n",
       "                                  ..\n",
       "musees@bergerac.fr                 1\n",
       "musee-mer@ville-paimpol.fr         1\n",
       "musee@ajecta.org                   1\n",
       "info@mausa.fr                      1\n",
       "defibois39@gmail.com               1\n",
       "Name: email, Length: 295, dtype: int64"
      ]
     },
     "execution_count": 30,
     "metadata": {},
     "output_type": "execute_result"
    }
   ],
   "source": [
    "df_musee['email'].value_counts()"
   ]
  },
  {
   "cell_type": "markdown",
   "id": "abd60aa0-5faf-4d06-b577-3bf2c638b19f",
   "metadata": {},
   "source": [
    "**Quel département français possède le plus de musées sur son territoire ?**"
   ]
  },
  {
   "cell_type": "code",
   "execution_count": 31,
   "id": "ba74edcd-c86c-47a2-8bfa-110fc993eb66",
   "metadata": {},
   "outputs": [
    {
     "data": {
      "text/plain": [
       "75    180\n",
       "59     97\n",
       "33     94\n",
       "71     91\n",
       "13     90\n",
       "     ... \n",
       "28     14\n",
       "23     11\n",
       "90     10\n",
       "48      9\n",
       "98      8\n",
       "Name: departement, Length: 88, dtype: int64"
      ]
     },
     "execution_count": 31,
     "metadata": {},
     "output_type": "execute_result"
    }
   ],
   "source": [
    "df_musee[\"departement\"] = df_musee['postal_code'].astype(str).str[0:2]\n",
    "df_musee[\"departement\"].value_counts()"
   ]
  },
  {
   "cell_type": "markdown",
   "id": "ab1a5540-b8a4-4fca-9173-e0b8a4dd0e93",
   "metadata": {},
   "source": [
    "**Quel département français possède le moins de musées sur son territoire ?**"
   ]
  },
  {
   "cell_type": "code",
   "execution_count": 46,
   "id": "2e296441-fef9-4d06-8304-b149a62ca6b4",
   "metadata": {},
   "outputs": [
    {
     "name": "stdout",
     "output_type": "stream",
     "text": [
      "Le départment ayant le plus de musée est le 98 .\n"
     ]
    }
   ],
   "source": [
    "departement = df_musee['postal_code'].dropna()\n",
    "departement = departement.astype(int).astype(str).str.slice(stop=2)\n",
    "print(\"Le départment ayant le plus de musée est le\", departement.value_counts().idxmin(),\".\")"
   ]
  },
  {
   "cell_type": "markdown",
   "id": "16e6104f-e89d-479a-a6d6-1b123c1b399a",
   "metadata": {},
   "source": [
    "**Combien de musées ont \"Napoléon\" dans leur nom ?**"
   ]
  },
  {
   "cell_type": "code",
   "execution_count": 32,
   "id": "e23a3bdb-4514-4dbd-b076-513be7fe190e",
   "metadata": {},
   "outputs": [
    {
     "data": {
      "text/plain": [
       "False    3780\n",
       "True        4\n",
       "Name: name, dtype: int64"
      ]
     },
     "execution_count": 32,
     "metadata": {},
     "output_type": "execute_result"
    }
   ],
   "source": [
    "df_musee[\"name\"].str.contains(\"Napoléon\").value_counts()"
   ]
  },
  {
   "cell_type": "markdown",
   "id": "e17706f7-0c9e-439b-9914-ad94264248e6",
   "metadata": {},
   "source": [
    "# Partie 2"
   ]
  },
  {
   "cell_type": "markdown",
   "id": "6ae47e0a-3922-42b6-a002-2913aaf63389",
   "metadata": {},
   "source": [
    "**Proposer deux axes d'analyse supplémentaires**"
   ]
  },
  {
   "cell_type": "code",
   "execution_count": null,
   "id": "aaca4a88-a390-49ee-aed3-94e960515aa9",
   "metadata": {},
   "outputs": [],
   "source": []
  },
  {
   "cell_type": "code",
   "execution_count": null,
   "id": "8090ba4a-9f71-4ad2-b6df-6cca45f8201c",
   "metadata": {},
   "outputs": [],
   "source": []
  },
  {
   "cell_type": "code",
   "execution_count": null,
   "id": "33ebc13e-f88a-4363-a1b5-47d48447b7a1",
   "metadata": {},
   "outputs": [],
   "source": []
  },
  {
   "cell_type": "markdown",
   "id": "ddbeb62c-3644-4813-b556-f03ca7b0750a",
   "metadata": {},
   "source": [
    "# Projet University"
   ]
  },
  {
   "cell_type": "markdown",
   "id": "f3963a81-2d16-4300-9483-7ab925f30cfc",
   "metadata": {},
   "source": [
    "World University Rankings"
   ]
  },
  {
   "cell_type": "markdown",
   "id": "c163e0aa-a27e-477b-990f-040291fe5c71",
   "metadata": {},
   "source": [
    "**Donne un aperçu de chaque fichier csv et décris en une phrase son contenu**"
   ]
  },
  {
   "cell_type": "raw",
   "id": "7e91cc0c-b37c-4841-8174-bab1cca5150b",
   "metadata": {},
   "source": [
    "import pandas as pd\n",
    "import numpy as np\n",
    "\n",
    "data1 = pd.read_csv(\"/Users/ronanlamour/Desktop/THP_Ronan_Lamour/Semaine_4/Day_2/cwurData.csv\",encoding='latin-1')\n",
    "df1 = pd.DataFrame(data1)"
   ]
  },
  {
   "cell_type": "code",
   "execution_count": 41,
   "id": "db6333d1-8d78-40b1-a3b2-40b9666dbf1d",
   "metadata": {},
   "outputs": [
    {
     "data": {
      "text/html": [
       "<div>\n",
       "<style scoped>\n",
       "    .dataframe tbody tr th:only-of-type {\n",
       "        vertical-align: middle;\n",
       "    }\n",
       "\n",
       "    .dataframe tbody tr th {\n",
       "        vertical-align: top;\n",
       "    }\n",
       "\n",
       "    .dataframe thead th {\n",
       "        text-align: right;\n",
       "    }\n",
       "</style>\n",
       "<table border=\"1\" class=\"dataframe\">\n",
       "  <thead>\n",
       "    <tr style=\"text-align: right;\">\n",
       "      <th></th>\n",
       "      <th>world_rank</th>\n",
       "      <th>institution</th>\n",
       "      <th>country</th>\n",
       "      <th>national_rank</th>\n",
       "      <th>quality_of_education</th>\n",
       "      <th>alumni_employment</th>\n",
       "      <th>quality_of_faculty</th>\n",
       "      <th>publications</th>\n",
       "      <th>influence</th>\n",
       "      <th>citations</th>\n",
       "      <th>broad_impact</th>\n",
       "      <th>patents</th>\n",
       "      <th>score</th>\n",
       "      <th>year</th>\n",
       "    </tr>\n",
       "  </thead>\n",
       "  <tbody>\n",
       "    <tr>\n",
       "      <th>0</th>\n",
       "      <td>1</td>\n",
       "      <td>Harvard University</td>\n",
       "      <td>USA</td>\n",
       "      <td>1</td>\n",
       "      <td>7</td>\n",
       "      <td>9</td>\n",
       "      <td>1</td>\n",
       "      <td>1</td>\n",
       "      <td>1</td>\n",
       "      <td>1</td>\n",
       "      <td>NaN</td>\n",
       "      <td>5</td>\n",
       "      <td>100.00</td>\n",
       "      <td>2012</td>\n",
       "    </tr>\n",
       "    <tr>\n",
       "      <th>1</th>\n",
       "      <td>2</td>\n",
       "      <td>Massachusetts Institute of Technology</td>\n",
       "      <td>USA</td>\n",
       "      <td>2</td>\n",
       "      <td>9</td>\n",
       "      <td>17</td>\n",
       "      <td>3</td>\n",
       "      <td>12</td>\n",
       "      <td>4</td>\n",
       "      <td>4</td>\n",
       "      <td>NaN</td>\n",
       "      <td>1</td>\n",
       "      <td>91.67</td>\n",
       "      <td>2012</td>\n",
       "    </tr>\n",
       "    <tr>\n",
       "      <th>2</th>\n",
       "      <td>3</td>\n",
       "      <td>Stanford University</td>\n",
       "      <td>USA</td>\n",
       "      <td>3</td>\n",
       "      <td>17</td>\n",
       "      <td>11</td>\n",
       "      <td>5</td>\n",
       "      <td>4</td>\n",
       "      <td>2</td>\n",
       "      <td>2</td>\n",
       "      <td>NaN</td>\n",
       "      <td>15</td>\n",
       "      <td>89.50</td>\n",
       "      <td>2012</td>\n",
       "    </tr>\n",
       "    <tr>\n",
       "      <th>3</th>\n",
       "      <td>4</td>\n",
       "      <td>University of Cambridge</td>\n",
       "      <td>United Kingdom</td>\n",
       "      <td>1</td>\n",
       "      <td>10</td>\n",
       "      <td>24</td>\n",
       "      <td>4</td>\n",
       "      <td>16</td>\n",
       "      <td>16</td>\n",
       "      <td>11</td>\n",
       "      <td>NaN</td>\n",
       "      <td>50</td>\n",
       "      <td>86.17</td>\n",
       "      <td>2012</td>\n",
       "    </tr>\n",
       "    <tr>\n",
       "      <th>4</th>\n",
       "      <td>5</td>\n",
       "      <td>California Institute of Technology</td>\n",
       "      <td>USA</td>\n",
       "      <td>4</td>\n",
       "      <td>2</td>\n",
       "      <td>29</td>\n",
       "      <td>7</td>\n",
       "      <td>37</td>\n",
       "      <td>22</td>\n",
       "      <td>22</td>\n",
       "      <td>NaN</td>\n",
       "      <td>18</td>\n",
       "      <td>85.21</td>\n",
       "      <td>2012</td>\n",
       "    </tr>\n",
       "  </tbody>\n",
       "</table>\n",
       "</div>"
      ],
      "text/plain": [
       "   world_rank                            institution         country  \\\n",
       "0           1                     Harvard University             USA   \n",
       "1           2  Massachusetts Institute of Technology             USA   \n",
       "2           3                    Stanford University             USA   \n",
       "3           4                University of Cambridge  United Kingdom   \n",
       "4           5     California Institute of Technology             USA   \n",
       "\n",
       "   national_rank  quality_of_education  alumni_employment  quality_of_faculty  \\\n",
       "0              1                     7                  9                   1   \n",
       "1              2                     9                 17                   3   \n",
       "2              3                    17                 11                   5   \n",
       "3              1                    10                 24                   4   \n",
       "4              4                     2                 29                   7   \n",
       "\n",
       "   publications  influence  citations  broad_impact  patents   score  year  \n",
       "0             1          1          1           NaN        5  100.00  2012  \n",
       "1            12          4          4           NaN        1   91.67  2012  \n",
       "2             4          2          2           NaN       15   89.50  2012  \n",
       "3            16         16         11           NaN       50   86.17  2012  \n",
       "4            37         22         22           NaN       18   85.21  2012  "
      ]
     },
     "execution_count": 41,
     "metadata": {},
     "output_type": "execute_result"
    }
   ],
   "source": [
    "df1.head()"
   ]
  },
  {
   "cell_type": "markdown",
   "id": "2f92a01b-5d09-4c85-8a2a-8f1ecb483538",
   "metadata": {},
   "source": [
    "**Quelles années sont prises en charge par chaque classement ?**"
   ]
  },
  {
   "cell_type": "markdown",
   "id": "10856873-3fcf-45ad-ab5f-76379a62482a",
   "metadata": {},
   "source": [
    "**Combien d'universités sont prises en compte annuellement par chaque classement en moyenne ? Il s'agit ici de donner le nombre moyen d'universités prises en compte par chaque classement lors d'une année**"
   ]
  },
  {
   "cell_type": "markdown",
   "id": "0daec704-757c-4237-8c64-772902d5e08d",
   "metadata": {},
   "source": [
    "**Quels sont les rankings obtenus par l'Université de Strabourg dans chacun des 3 classements disponibles ?**"
   ]
  },
  {
   "cell_type": "code",
   "execution_count": null,
   "id": "68a85d86-c67c-45e1-b3cc-33160e2f472b",
   "metadata": {},
   "outputs": [],
   "source": []
  },
  {
   "cell_type": "code",
   "execution_count": null,
   "id": "55460312-7493-4d28-be22-8edd0d70820f",
   "metadata": {},
   "outputs": [],
   "source": []
  }
 ],
 "metadata": {
  "kernelspec": {
   "display_name": "Python 3",
   "language": "python",
   "name": "python3"
  },
  "language_info": {
   "codemirror_mode": {
    "name": "ipython",
    "version": 3
   },
   "file_extension": ".py",
   "mimetype": "text/x-python",
   "name": "python",
   "nbconvert_exporter": "python",
   "pygments_lexer": "ipython3",
   "version": "3.8.8"
  }
 },
 "nbformat": 4,
 "nbformat_minor": 5
}
